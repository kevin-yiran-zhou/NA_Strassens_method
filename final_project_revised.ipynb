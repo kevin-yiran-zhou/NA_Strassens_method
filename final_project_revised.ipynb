{
 "cells": [
  {
   "cell_type": "code",
   "execution_count": 1,
   "metadata": {
    "id": "FJthyD1f99eI"
   },
   "outputs": [],
   "source": [
    "import numpy as np\n",
    "import matplotlib.pyplot as plt\n",
    "import time\n",
    "import random"
   ]
  },
  {
   "cell_type": "markdown",
   "metadata": {
    "id": "3xrCZjYdXdzU"
   },
   "source": [
    "# Normal method for square matrix"
   ]
  },
  {
   "cell_type": "code",
   "execution_count": 2,
   "metadata": {
    "id": "UY4WWPEw-YoK"
   },
   "outputs": [],
   "source": [
    "#Normal method for square matrix\n",
    "def multiply(A, B): \n",
    "  n = A.shape[0]\n",
    "  result = np.zeros((n, n))\n",
    "  for i in range(n):     \n",
    "    for j in range(n): \n",
    "      for k in range(n):\n",
    "        result[i][j] += A[i][k]*B[k][j]\n",
    "  return result"
   ]
  },
  {
   "cell_type": "markdown",
   "metadata": {
    "id": "9a9Ou2S0Xh59"
   },
   "source": [
    "# Strassen's Method"
   ]
  },
  {
   "cell_type": "markdown",
   "metadata": {
    "id": "HzJGKgA9Xlcn"
   },
   "source": [
    "Split matrix"
   ]
  },
  {
   "cell_type": "code",
   "execution_count": 3,
   "metadata": {
    "id": "qy9lAVA5XpSA"
   },
   "outputs": [],
   "source": [
    "#Split matrix\n",
    "def split(matrix):\n",
    "    row, col = matrix.shape\n",
    "    row2, col2 = row//2, col//2\n",
    "    return matrix[:row2, :col2], matrix[:row2, col2:], matrix[row2:, :col2], matrix[row2:, col2:] "
   ]
  },
  {
   "cell_type": "markdown",
   "metadata": {
    "id": "hZVbypzlXrAJ"
   },
   "source": [
    "Strassen's method"
   ]
  },
  {
   "cell_type": "code",
   "execution_count": 4,
   "metadata": {
    "id": "80p5JGx6dfSa"
   },
   "outputs": [],
   "source": [
    "# Strassen's method\n",
    "def strassen(x, y):\n",
    "    # Base case when size of matrices is 1*1\n",
    "    if len(x) == 1:\n",
    "        return x*y\n",
    "    # Splitting the matrices into quadrants. This will be done recursively\n",
    "    # until the base case is reached.\n",
    "    a, b, c, d = split(x)\n",
    "    e, f, g, h = split(y) \n",
    "    # Computing the 7 products, recursively (p1, p2...p7)\n",
    "    p1 = strassen(a, f - h) \n",
    "    p2 = strassen(a + b, h)       \n",
    "    p3 = strassen(c + d, e)       \n",
    "    p4 = strassen(d, g - e)       \n",
    "    p5 = strassen(a + d, e + h)       \n",
    "    p6 = strassen(b - d, g + h) \n",
    "    p7 = strassen(a - c, e + f)  \n",
    "    # Computing the values of the 4 quadrants of the final matrix c\n",
    "    c11 = p5 + p4 - p2 + p6 \n",
    "    c12 = p1 + p2          \n",
    "    c21 = p3 + p4           \n",
    "    c22 = p1 + p5 - p3 - p7 \n",
    "    # Combining the 4 quadrants into a single matrix by stacking horizontally and vertically.\n",
    "    c = np.vstack((np.hstack((c11, c12)), np.hstack((c21, c22))))\n",
    " \n",
    "    return c\n",
    "\n"
   ]
  },
  {
   "cell_type": "markdown",
   "metadata": {
    "id": "iIW53xPrYHAe"
   },
   "source": [
    "Main"
   ]
  },
  {
   "cell_type": "code",
   "execution_count": 5,
   "metadata": {
    "colab": {
     "base_uri": "https://localhost:8080/"
    },
    "id": "fuYaUWTZYICh",
    "outputId": "2e46863b-921b-4e27-986d-15f62b8ce95f"
   },
   "outputs": [
    {
     "name": "stdout",
     "output_type": "stream",
     "text": [
      "2^ 1 done, strassen time:  5.48000000000215e-05 , normal time:  1.2699999999643552e-05 Proportion:  4.31496063004406\n",
      "2^ 2 done, strassen time:  0.0003283000000000591 , normal time:  4.000000000026205e-05 Proportion:  8.207499999947709\n",
      "2^ 3 done, strassen time:  0.0018468000000000373 , normal time:  0.00028439999999996246 Proportion:  6.493670886076938\n",
      "2^ 4 done, strassen time:  0.008864299999999936 , normal time:  0.0021819999999999062 Proportion:  4.06246562786449\n",
      "2^ 5 done, strassen time:  0.0553003000000003 , normal time:  0.017258500000000065 Proportion:  3.204235594055109\n",
      "2^ 6 done, strassen time:  0.3769157999999999 , normal time:  0.1347681999999999 Proportion:  2.7967710483630426\n",
      "2^ 7 done, strassen time:  2.6100374999999993 , normal time:  1.0608467 Proportion:  2.460334278270366\n"
     ]
    },
    {
     "ename": "KeyboardInterrupt",
     "evalue": "",
     "output_type": "error",
     "traceback": [
      "\u001b[1;31m---------------------------------------------------------------------------\u001b[0m",
      "\u001b[1;31mKeyboardInterrupt\u001b[0m                         Traceback (most recent call last)",
      "\u001b[1;32m~\\AppData\\Local\\Temp/ipykernel_1032/3096457551.py\u001b[0m in \u001b[0;36m<module>\u001b[1;34m\u001b[0m\n\u001b[0;32m     19\u001b[0m     \u001b[1;31m#strassen\u001b[0m\u001b[1;33m\u001b[0m\u001b[1;33m\u001b[0m\u001b[0m\n\u001b[0;32m     20\u001b[0m     \u001b[0mstart\u001b[0m \u001b[1;33m=\u001b[0m \u001b[0mtime\u001b[0m\u001b[1;33m.\u001b[0m\u001b[0mperf_counter\u001b[0m\u001b[1;33m(\u001b[0m\u001b[1;33m)\u001b[0m\u001b[1;33m\u001b[0m\u001b[1;33m\u001b[0m\u001b[0m\n\u001b[1;32m---> 21\u001b[1;33m     \u001b[0mD\u001b[0m \u001b[1;33m=\u001b[0m \u001b[0mstrassen\u001b[0m\u001b[1;33m(\u001b[0m\u001b[0mA\u001b[0m\u001b[1;33m,\u001b[0m \u001b[0mB\u001b[0m\u001b[1;33m)\u001b[0m\u001b[1;33m\u001b[0m\u001b[1;33m\u001b[0m\u001b[0m\n\u001b[0m\u001b[0;32m     22\u001b[0m     \u001b[1;31m#D = strassen(A, C)\u001b[0m\u001b[1;33m\u001b[0m\u001b[1;33m\u001b[0m\u001b[0m\n\u001b[0;32m     23\u001b[0m     \u001b[1;31m#D = strassen(B, C)\u001b[0m\u001b[1;33m\u001b[0m\u001b[1;33m\u001b[0m\u001b[0m\n",
      "\u001b[1;32m~\\AppData\\Local\\Temp/ipykernel_1032/3887166597.py\u001b[0m in \u001b[0;36mstrassen\u001b[1;34m(x, y)\u001b[0m\n\u001b[0;32m     10\u001b[0m     \u001b[1;31m# Computing the 7 products, recursively (p1, p2...p7)\u001b[0m\u001b[1;33m\u001b[0m\u001b[1;33m\u001b[0m\u001b[0m\n\u001b[0;32m     11\u001b[0m     \u001b[0mp1\u001b[0m \u001b[1;33m=\u001b[0m \u001b[0mstrassen\u001b[0m\u001b[1;33m(\u001b[0m\u001b[0ma\u001b[0m\u001b[1;33m,\u001b[0m \u001b[0mf\u001b[0m \u001b[1;33m-\u001b[0m \u001b[0mh\u001b[0m\u001b[1;33m)\u001b[0m\u001b[1;33m\u001b[0m\u001b[1;33m\u001b[0m\u001b[0m\n\u001b[1;32m---> 12\u001b[1;33m     \u001b[0mp2\u001b[0m \u001b[1;33m=\u001b[0m \u001b[0mstrassen\u001b[0m\u001b[1;33m(\u001b[0m\u001b[0ma\u001b[0m \u001b[1;33m+\u001b[0m \u001b[0mb\u001b[0m\u001b[1;33m,\u001b[0m \u001b[0mh\u001b[0m\u001b[1;33m)\u001b[0m\u001b[1;33m\u001b[0m\u001b[1;33m\u001b[0m\u001b[0m\n\u001b[0m\u001b[0;32m     13\u001b[0m     \u001b[0mp3\u001b[0m \u001b[1;33m=\u001b[0m \u001b[0mstrassen\u001b[0m\u001b[1;33m(\u001b[0m\u001b[0mc\u001b[0m \u001b[1;33m+\u001b[0m \u001b[0md\u001b[0m\u001b[1;33m,\u001b[0m \u001b[0me\u001b[0m\u001b[1;33m)\u001b[0m\u001b[1;33m\u001b[0m\u001b[1;33m\u001b[0m\u001b[0m\n\u001b[0;32m     14\u001b[0m     \u001b[0mp4\u001b[0m \u001b[1;33m=\u001b[0m \u001b[0mstrassen\u001b[0m\u001b[1;33m(\u001b[0m\u001b[0md\u001b[0m\u001b[1;33m,\u001b[0m \u001b[0mg\u001b[0m \u001b[1;33m-\u001b[0m \u001b[0me\u001b[0m\u001b[1;33m)\u001b[0m\u001b[1;33m\u001b[0m\u001b[1;33m\u001b[0m\u001b[0m\n",
      "\u001b[1;32m~\\AppData\\Local\\Temp/ipykernel_1032/3887166597.py\u001b[0m in \u001b[0;36mstrassen\u001b[1;34m(x, y)\u001b[0m\n\u001b[0;32m     15\u001b[0m     \u001b[0mp5\u001b[0m \u001b[1;33m=\u001b[0m \u001b[0mstrassen\u001b[0m\u001b[1;33m(\u001b[0m\u001b[0ma\u001b[0m \u001b[1;33m+\u001b[0m \u001b[0md\u001b[0m\u001b[1;33m,\u001b[0m \u001b[0me\u001b[0m \u001b[1;33m+\u001b[0m \u001b[0mh\u001b[0m\u001b[1;33m)\u001b[0m\u001b[1;33m\u001b[0m\u001b[1;33m\u001b[0m\u001b[0m\n\u001b[0;32m     16\u001b[0m     \u001b[0mp6\u001b[0m \u001b[1;33m=\u001b[0m \u001b[0mstrassen\u001b[0m\u001b[1;33m(\u001b[0m\u001b[0mb\u001b[0m \u001b[1;33m-\u001b[0m \u001b[0md\u001b[0m\u001b[1;33m,\u001b[0m \u001b[0mg\u001b[0m \u001b[1;33m+\u001b[0m \u001b[0mh\u001b[0m\u001b[1;33m)\u001b[0m\u001b[1;33m\u001b[0m\u001b[1;33m\u001b[0m\u001b[0m\n\u001b[1;32m---> 17\u001b[1;33m     \u001b[0mp7\u001b[0m \u001b[1;33m=\u001b[0m \u001b[0mstrassen\u001b[0m\u001b[1;33m(\u001b[0m\u001b[0ma\u001b[0m \u001b[1;33m-\u001b[0m \u001b[0mc\u001b[0m\u001b[1;33m,\u001b[0m \u001b[0me\u001b[0m \u001b[1;33m+\u001b[0m \u001b[0mf\u001b[0m\u001b[1;33m)\u001b[0m\u001b[1;33m\u001b[0m\u001b[1;33m\u001b[0m\u001b[0m\n\u001b[0m\u001b[0;32m     18\u001b[0m     \u001b[1;31m# Computing the values of the 4 quadrants of the final matrix c\u001b[0m\u001b[1;33m\u001b[0m\u001b[1;33m\u001b[0m\u001b[0m\n\u001b[0;32m     19\u001b[0m     \u001b[0mc11\u001b[0m \u001b[1;33m=\u001b[0m \u001b[0mp5\u001b[0m \u001b[1;33m+\u001b[0m \u001b[0mp4\u001b[0m \u001b[1;33m-\u001b[0m \u001b[0mp2\u001b[0m \u001b[1;33m+\u001b[0m \u001b[0mp6\u001b[0m\u001b[1;33m\u001b[0m\u001b[1;33m\u001b[0m\u001b[0m\n",
      "\u001b[1;32m~\\AppData\\Local\\Temp/ipykernel_1032/3887166597.py\u001b[0m in \u001b[0;36mstrassen\u001b[1;34m(x, y)\u001b[0m\n\u001b[0;32m     15\u001b[0m     \u001b[0mp5\u001b[0m \u001b[1;33m=\u001b[0m \u001b[0mstrassen\u001b[0m\u001b[1;33m(\u001b[0m\u001b[0ma\u001b[0m \u001b[1;33m+\u001b[0m \u001b[0md\u001b[0m\u001b[1;33m,\u001b[0m \u001b[0me\u001b[0m \u001b[1;33m+\u001b[0m \u001b[0mh\u001b[0m\u001b[1;33m)\u001b[0m\u001b[1;33m\u001b[0m\u001b[1;33m\u001b[0m\u001b[0m\n\u001b[0;32m     16\u001b[0m     \u001b[0mp6\u001b[0m \u001b[1;33m=\u001b[0m \u001b[0mstrassen\u001b[0m\u001b[1;33m(\u001b[0m\u001b[0mb\u001b[0m \u001b[1;33m-\u001b[0m \u001b[0md\u001b[0m\u001b[1;33m,\u001b[0m \u001b[0mg\u001b[0m \u001b[1;33m+\u001b[0m \u001b[0mh\u001b[0m\u001b[1;33m)\u001b[0m\u001b[1;33m\u001b[0m\u001b[1;33m\u001b[0m\u001b[0m\n\u001b[1;32m---> 17\u001b[1;33m     \u001b[0mp7\u001b[0m \u001b[1;33m=\u001b[0m \u001b[0mstrassen\u001b[0m\u001b[1;33m(\u001b[0m\u001b[0ma\u001b[0m \u001b[1;33m-\u001b[0m \u001b[0mc\u001b[0m\u001b[1;33m,\u001b[0m \u001b[0me\u001b[0m \u001b[1;33m+\u001b[0m \u001b[0mf\u001b[0m\u001b[1;33m)\u001b[0m\u001b[1;33m\u001b[0m\u001b[1;33m\u001b[0m\u001b[0m\n\u001b[0m\u001b[0;32m     18\u001b[0m     \u001b[1;31m# Computing the values of the 4 quadrants of the final matrix c\u001b[0m\u001b[1;33m\u001b[0m\u001b[1;33m\u001b[0m\u001b[0m\n\u001b[0;32m     19\u001b[0m     \u001b[0mc11\u001b[0m \u001b[1;33m=\u001b[0m \u001b[0mp5\u001b[0m \u001b[1;33m+\u001b[0m \u001b[0mp4\u001b[0m \u001b[1;33m-\u001b[0m \u001b[0mp2\u001b[0m \u001b[1;33m+\u001b[0m \u001b[0mp6\u001b[0m\u001b[1;33m\u001b[0m\u001b[1;33m\u001b[0m\u001b[0m\n",
      "\u001b[1;32m~\\AppData\\Local\\Temp/ipykernel_1032/3887166597.py\u001b[0m in \u001b[0;36mstrassen\u001b[1;34m(x, y)\u001b[0m\n\u001b[0;32m     10\u001b[0m     \u001b[1;31m# Computing the 7 products, recursively (p1, p2...p7)\u001b[0m\u001b[1;33m\u001b[0m\u001b[1;33m\u001b[0m\u001b[0m\n\u001b[0;32m     11\u001b[0m     \u001b[0mp1\u001b[0m \u001b[1;33m=\u001b[0m \u001b[0mstrassen\u001b[0m\u001b[1;33m(\u001b[0m\u001b[0ma\u001b[0m\u001b[1;33m,\u001b[0m \u001b[0mf\u001b[0m \u001b[1;33m-\u001b[0m \u001b[0mh\u001b[0m\u001b[1;33m)\u001b[0m\u001b[1;33m\u001b[0m\u001b[1;33m\u001b[0m\u001b[0m\n\u001b[1;32m---> 12\u001b[1;33m     \u001b[0mp2\u001b[0m \u001b[1;33m=\u001b[0m \u001b[0mstrassen\u001b[0m\u001b[1;33m(\u001b[0m\u001b[0ma\u001b[0m \u001b[1;33m+\u001b[0m \u001b[0mb\u001b[0m\u001b[1;33m,\u001b[0m \u001b[0mh\u001b[0m\u001b[1;33m)\u001b[0m\u001b[1;33m\u001b[0m\u001b[1;33m\u001b[0m\u001b[0m\n\u001b[0m\u001b[0;32m     13\u001b[0m     \u001b[0mp3\u001b[0m \u001b[1;33m=\u001b[0m \u001b[0mstrassen\u001b[0m\u001b[1;33m(\u001b[0m\u001b[0mc\u001b[0m \u001b[1;33m+\u001b[0m \u001b[0md\u001b[0m\u001b[1;33m,\u001b[0m \u001b[0me\u001b[0m\u001b[1;33m)\u001b[0m\u001b[1;33m\u001b[0m\u001b[1;33m\u001b[0m\u001b[0m\n\u001b[0;32m     14\u001b[0m     \u001b[0mp4\u001b[0m \u001b[1;33m=\u001b[0m \u001b[0mstrassen\u001b[0m\u001b[1;33m(\u001b[0m\u001b[0md\u001b[0m\u001b[1;33m,\u001b[0m \u001b[0mg\u001b[0m \u001b[1;33m-\u001b[0m \u001b[0me\u001b[0m\u001b[1;33m)\u001b[0m\u001b[1;33m\u001b[0m\u001b[1;33m\u001b[0m\u001b[0m\n",
      "\u001b[1;32m~\\AppData\\Local\\Temp/ipykernel_1032/3887166597.py\u001b[0m in \u001b[0;36mstrassen\u001b[1;34m(x, y)\u001b[0m\n\u001b[0;32m     13\u001b[0m     \u001b[0mp3\u001b[0m \u001b[1;33m=\u001b[0m \u001b[0mstrassen\u001b[0m\u001b[1;33m(\u001b[0m\u001b[0mc\u001b[0m \u001b[1;33m+\u001b[0m \u001b[0md\u001b[0m\u001b[1;33m,\u001b[0m \u001b[0me\u001b[0m\u001b[1;33m)\u001b[0m\u001b[1;33m\u001b[0m\u001b[1;33m\u001b[0m\u001b[0m\n\u001b[0;32m     14\u001b[0m     \u001b[0mp4\u001b[0m \u001b[1;33m=\u001b[0m \u001b[0mstrassen\u001b[0m\u001b[1;33m(\u001b[0m\u001b[0md\u001b[0m\u001b[1;33m,\u001b[0m \u001b[0mg\u001b[0m \u001b[1;33m-\u001b[0m \u001b[0me\u001b[0m\u001b[1;33m)\u001b[0m\u001b[1;33m\u001b[0m\u001b[1;33m\u001b[0m\u001b[0m\n\u001b[1;32m---> 15\u001b[1;33m     \u001b[0mp5\u001b[0m \u001b[1;33m=\u001b[0m \u001b[0mstrassen\u001b[0m\u001b[1;33m(\u001b[0m\u001b[0ma\u001b[0m \u001b[1;33m+\u001b[0m \u001b[0md\u001b[0m\u001b[1;33m,\u001b[0m \u001b[0me\u001b[0m \u001b[1;33m+\u001b[0m \u001b[0mh\u001b[0m\u001b[1;33m)\u001b[0m\u001b[1;33m\u001b[0m\u001b[1;33m\u001b[0m\u001b[0m\n\u001b[0m\u001b[0;32m     16\u001b[0m     \u001b[0mp6\u001b[0m \u001b[1;33m=\u001b[0m \u001b[0mstrassen\u001b[0m\u001b[1;33m(\u001b[0m\u001b[0mb\u001b[0m \u001b[1;33m-\u001b[0m \u001b[0md\u001b[0m\u001b[1;33m,\u001b[0m \u001b[0mg\u001b[0m \u001b[1;33m+\u001b[0m \u001b[0mh\u001b[0m\u001b[1;33m)\u001b[0m\u001b[1;33m\u001b[0m\u001b[1;33m\u001b[0m\u001b[0m\n\u001b[0;32m     17\u001b[0m     \u001b[0mp7\u001b[0m \u001b[1;33m=\u001b[0m \u001b[0mstrassen\u001b[0m\u001b[1;33m(\u001b[0m\u001b[0ma\u001b[0m \u001b[1;33m-\u001b[0m \u001b[0mc\u001b[0m\u001b[1;33m,\u001b[0m \u001b[0me\u001b[0m \u001b[1;33m+\u001b[0m \u001b[0mf\u001b[0m\u001b[1;33m)\u001b[0m\u001b[1;33m\u001b[0m\u001b[1;33m\u001b[0m\u001b[0m\n",
      "\u001b[1;32m~\\AppData\\Local\\Temp/ipykernel_1032/3887166597.py\u001b[0m in \u001b[0;36mstrassen\u001b[1;34m(x, y)\u001b[0m\n\u001b[0;32m     13\u001b[0m     \u001b[0mp3\u001b[0m \u001b[1;33m=\u001b[0m \u001b[0mstrassen\u001b[0m\u001b[1;33m(\u001b[0m\u001b[0mc\u001b[0m \u001b[1;33m+\u001b[0m \u001b[0md\u001b[0m\u001b[1;33m,\u001b[0m \u001b[0me\u001b[0m\u001b[1;33m)\u001b[0m\u001b[1;33m\u001b[0m\u001b[1;33m\u001b[0m\u001b[0m\n\u001b[0;32m     14\u001b[0m     \u001b[0mp4\u001b[0m \u001b[1;33m=\u001b[0m \u001b[0mstrassen\u001b[0m\u001b[1;33m(\u001b[0m\u001b[0md\u001b[0m\u001b[1;33m,\u001b[0m \u001b[0mg\u001b[0m \u001b[1;33m-\u001b[0m \u001b[0me\u001b[0m\u001b[1;33m)\u001b[0m\u001b[1;33m\u001b[0m\u001b[1;33m\u001b[0m\u001b[0m\n\u001b[1;32m---> 15\u001b[1;33m     \u001b[0mp5\u001b[0m \u001b[1;33m=\u001b[0m \u001b[0mstrassen\u001b[0m\u001b[1;33m(\u001b[0m\u001b[0ma\u001b[0m \u001b[1;33m+\u001b[0m \u001b[0md\u001b[0m\u001b[1;33m,\u001b[0m \u001b[0me\u001b[0m \u001b[1;33m+\u001b[0m \u001b[0mh\u001b[0m\u001b[1;33m)\u001b[0m\u001b[1;33m\u001b[0m\u001b[1;33m\u001b[0m\u001b[0m\n\u001b[0m\u001b[0;32m     16\u001b[0m     \u001b[0mp6\u001b[0m \u001b[1;33m=\u001b[0m \u001b[0mstrassen\u001b[0m\u001b[1;33m(\u001b[0m\u001b[0mb\u001b[0m \u001b[1;33m-\u001b[0m \u001b[0md\u001b[0m\u001b[1;33m,\u001b[0m \u001b[0mg\u001b[0m \u001b[1;33m+\u001b[0m \u001b[0mh\u001b[0m\u001b[1;33m)\u001b[0m\u001b[1;33m\u001b[0m\u001b[1;33m\u001b[0m\u001b[0m\n\u001b[0;32m     17\u001b[0m     \u001b[0mp7\u001b[0m \u001b[1;33m=\u001b[0m \u001b[0mstrassen\u001b[0m\u001b[1;33m(\u001b[0m\u001b[0ma\u001b[0m \u001b[1;33m-\u001b[0m \u001b[0mc\u001b[0m\u001b[1;33m,\u001b[0m \u001b[0me\u001b[0m \u001b[1;33m+\u001b[0m \u001b[0mf\u001b[0m\u001b[1;33m)\u001b[0m\u001b[1;33m\u001b[0m\u001b[1;33m\u001b[0m\u001b[0m\n",
      "\u001b[1;32m~\\AppData\\Local\\Temp/ipykernel_1032/3887166597.py\u001b[0m in \u001b[0;36mstrassen\u001b[1;34m(x, y)\u001b[0m\n\u001b[0;32m     12\u001b[0m     \u001b[0mp2\u001b[0m \u001b[1;33m=\u001b[0m \u001b[0mstrassen\u001b[0m\u001b[1;33m(\u001b[0m\u001b[0ma\u001b[0m \u001b[1;33m+\u001b[0m \u001b[0mb\u001b[0m\u001b[1;33m,\u001b[0m \u001b[0mh\u001b[0m\u001b[1;33m)\u001b[0m\u001b[1;33m\u001b[0m\u001b[1;33m\u001b[0m\u001b[0m\n\u001b[0;32m     13\u001b[0m     \u001b[0mp3\u001b[0m \u001b[1;33m=\u001b[0m \u001b[0mstrassen\u001b[0m\u001b[1;33m(\u001b[0m\u001b[0mc\u001b[0m \u001b[1;33m+\u001b[0m \u001b[0md\u001b[0m\u001b[1;33m,\u001b[0m \u001b[0me\u001b[0m\u001b[1;33m)\u001b[0m\u001b[1;33m\u001b[0m\u001b[1;33m\u001b[0m\u001b[0m\n\u001b[1;32m---> 14\u001b[1;33m     \u001b[0mp4\u001b[0m \u001b[1;33m=\u001b[0m \u001b[0mstrassen\u001b[0m\u001b[1;33m(\u001b[0m\u001b[0md\u001b[0m\u001b[1;33m,\u001b[0m \u001b[0mg\u001b[0m \u001b[1;33m-\u001b[0m \u001b[0me\u001b[0m\u001b[1;33m)\u001b[0m\u001b[1;33m\u001b[0m\u001b[1;33m\u001b[0m\u001b[0m\n\u001b[0m\u001b[0;32m     15\u001b[0m     \u001b[0mp5\u001b[0m \u001b[1;33m=\u001b[0m \u001b[0mstrassen\u001b[0m\u001b[1;33m(\u001b[0m\u001b[0ma\u001b[0m \u001b[1;33m+\u001b[0m \u001b[0md\u001b[0m\u001b[1;33m,\u001b[0m \u001b[0me\u001b[0m \u001b[1;33m+\u001b[0m \u001b[0mh\u001b[0m\u001b[1;33m)\u001b[0m\u001b[1;33m\u001b[0m\u001b[1;33m\u001b[0m\u001b[0m\n\u001b[0;32m     16\u001b[0m     \u001b[0mp6\u001b[0m \u001b[1;33m=\u001b[0m \u001b[0mstrassen\u001b[0m\u001b[1;33m(\u001b[0m\u001b[0mb\u001b[0m \u001b[1;33m-\u001b[0m \u001b[0md\u001b[0m\u001b[1;33m,\u001b[0m \u001b[0mg\u001b[0m \u001b[1;33m+\u001b[0m \u001b[0mh\u001b[0m\u001b[1;33m)\u001b[0m\u001b[1;33m\u001b[0m\u001b[1;33m\u001b[0m\u001b[0m\n",
      "\u001b[1;32m~\\AppData\\Local\\Temp/ipykernel_1032/3887166597.py\u001b[0m in \u001b[0;36mstrassen\u001b[1;34m(x, y)\u001b[0m\n\u001b[0;32m     22\u001b[0m     \u001b[0mc22\u001b[0m \u001b[1;33m=\u001b[0m \u001b[0mp1\u001b[0m \u001b[1;33m+\u001b[0m \u001b[0mp5\u001b[0m \u001b[1;33m-\u001b[0m \u001b[0mp3\u001b[0m \u001b[1;33m-\u001b[0m \u001b[0mp7\u001b[0m\u001b[1;33m\u001b[0m\u001b[1;33m\u001b[0m\u001b[0m\n\u001b[0;32m     23\u001b[0m     \u001b[1;31m# Combining the 4 quadrants into a single matrix by stacking horizontally and vertically.\u001b[0m\u001b[1;33m\u001b[0m\u001b[1;33m\u001b[0m\u001b[0m\n\u001b[1;32m---> 24\u001b[1;33m     \u001b[0mc\u001b[0m \u001b[1;33m=\u001b[0m \u001b[0mnp\u001b[0m\u001b[1;33m.\u001b[0m\u001b[0mvstack\u001b[0m\u001b[1;33m(\u001b[0m\u001b[1;33m(\u001b[0m\u001b[0mnp\u001b[0m\u001b[1;33m.\u001b[0m\u001b[0mhstack\u001b[0m\u001b[1;33m(\u001b[0m\u001b[1;33m(\u001b[0m\u001b[0mc11\u001b[0m\u001b[1;33m,\u001b[0m \u001b[0mc12\u001b[0m\u001b[1;33m)\u001b[0m\u001b[1;33m)\u001b[0m\u001b[1;33m,\u001b[0m \u001b[0mnp\u001b[0m\u001b[1;33m.\u001b[0m\u001b[0mhstack\u001b[0m\u001b[1;33m(\u001b[0m\u001b[1;33m(\u001b[0m\u001b[0mc21\u001b[0m\u001b[1;33m,\u001b[0m \u001b[0mc22\u001b[0m\u001b[1;33m)\u001b[0m\u001b[1;33m)\u001b[0m\u001b[1;33m)\u001b[0m\u001b[1;33m)\u001b[0m\u001b[1;33m\u001b[0m\u001b[1;33m\u001b[0m\u001b[0m\n\u001b[0m\u001b[0;32m     25\u001b[0m \u001b[1;33m\u001b[0m\u001b[0m\n\u001b[0;32m     26\u001b[0m     \u001b[1;32mreturn\u001b[0m \u001b[0mc\u001b[0m\u001b[1;33m\u001b[0m\u001b[1;33m\u001b[0m\u001b[0m\n",
      "\u001b[1;32m<__array_function__ internals>\u001b[0m in \u001b[0;36mhstack\u001b[1;34m(*args, **kwargs)\u001b[0m\n",
      "\u001b[1;32m~\\anaconda3\\lib\\site-packages\\numpy\\core\\shape_base.py\u001b[0m in \u001b[0;36mhstack\u001b[1;34m(tup)\u001b[0m\n\u001b[0;32m    344\u001b[0m         \u001b[1;32mreturn\u001b[0m \u001b[0m_nx\u001b[0m\u001b[1;33m.\u001b[0m\u001b[0mconcatenate\u001b[0m\u001b[1;33m(\u001b[0m\u001b[0marrs\u001b[0m\u001b[1;33m,\u001b[0m \u001b[1;36m0\u001b[0m\u001b[1;33m)\u001b[0m\u001b[1;33m\u001b[0m\u001b[1;33m\u001b[0m\u001b[0m\n\u001b[0;32m    345\u001b[0m     \u001b[1;32melse\u001b[0m\u001b[1;33m:\u001b[0m\u001b[1;33m\u001b[0m\u001b[1;33m\u001b[0m\u001b[0m\n\u001b[1;32m--> 346\u001b[1;33m         \u001b[1;32mreturn\u001b[0m \u001b[0m_nx\u001b[0m\u001b[1;33m.\u001b[0m\u001b[0mconcatenate\u001b[0m\u001b[1;33m(\u001b[0m\u001b[0marrs\u001b[0m\u001b[1;33m,\u001b[0m \u001b[1;36m1\u001b[0m\u001b[1;33m)\u001b[0m\u001b[1;33m\u001b[0m\u001b[1;33m\u001b[0m\u001b[0m\n\u001b[0m\u001b[0;32m    347\u001b[0m \u001b[1;33m\u001b[0m\u001b[0m\n\u001b[0;32m    348\u001b[0m \u001b[1;33m\u001b[0m\u001b[0m\n",
      "\u001b[1;32m<__array_function__ internals>\u001b[0m in \u001b[0;36mconcatenate\u001b[1;34m(*args, **kwargs)\u001b[0m\n",
      "\u001b[1;31mKeyboardInterrupt\u001b[0m: "
     ]
    }
   ],
   "source": [
    "max_power = 9\n",
    "length = 2**max_power\n",
    "theA = np.random.randint(low=1, high=10, size=(length,length))\n",
    "theB = np.random.randint(low=1, high=10, size=(length,length))\n",
    "theC = np.random.randint(low=1, high=10, size=(length,length))\n",
    "#let computer warm up first\n",
    "C = multiply(theA, theB)\n",
    "#initializations\n",
    "powers = np.arange(1,max_power+1)\n",
    "strassens = np.ones(len(powers))\n",
    "normals = np.ones(len(powers))\n",
    "prop = np.zeros(len(powers))\n",
    "for i in range(len(powers)):\n",
    "    power = powers[i]\n",
    "    n = 2**power\n",
    "    A = theA[:n,:n]\n",
    "    B = theB[:n,:n]\n",
    "    C = theC[:n,:n]\n",
    "    #strassen\n",
    "    start = time.perf_counter()\n",
    "    D = strassen(A, B)\n",
    "    #D = strassen(A, C)\n",
    "    #D = strassen(B, C)\n",
    "    end = time.perf_counter()\n",
    "    strassen_time = (end-start)\n",
    "    strassens[i] = strassen_time\n",
    "    #normal\n",
    "    start = time.perf_counter()\n",
    "    D = multiply(A, B)\n",
    "    #D = multiply(A, C)\n",
    "    #D = multiply(B, C)\n",
    "    end = time.perf_counter()\n",
    "    normal_time = (end-start)\n",
    "    normals[i] = normal_time\n",
    "    #result\n",
    "    prop[i] = strassen_time/normal_time\n",
    "    print(\"2^\", power, \"done, strassen time: \", strassen_time, \", normal time: \", normal_time, \"Proportion: \", prop[i])"
   ]
  },
  {
   "cell_type": "markdown",
   "metadata": {
    "id": "D4SGVZF7YALC"
   },
   "source": [
    "Result"
   ]
  },
  {
   "cell_type": "code",
   "execution_count": null,
   "metadata": {
    "colab": {
     "base_uri": "https://localhost:8080/",
     "height": 592
    },
    "id": "OzHsua2nX7vv",
    "outputId": "373b7318-3fa2-40c5-fee3-a260a6994ac9"
   },
   "outputs": [],
   "source": [
    "print(strassens)\n",
    "print(normals)\n",
    "print(prop)\n",
    "plt.xlabel('size = 2^')\n",
    "plt.ylabel('proportion')\n",
    "plt.grid()\n",
    "plt.plot(powers, prop, marker='o')\n",
    "for i in range(len(powers)):\n",
    "    plt.text(powers[i], prop[i], round(prop[i],2), ha='center', va='bottom')"
   ]
  },
  {
   "cell_type": "markdown",
   "metadata": {
    "id": "ARVObzzyXza_"
   },
   "source": [
    "# Strassen's method revised"
   ]
  },
  {
   "cell_type": "code",
   "execution_count": 16,
   "metadata": {
    "id": "tEZw2L2jXxoA"
   },
   "outputs": [],
   "source": [
    "# Strassen's method revised\n",
    "def strassen_revised(x, y, n):\n",
    "    # Base case when size of matrices is (2^n)*(2^n)\n",
    "    if len(x) == 2**n:\n",
    "        return multiply(x,y)\n",
    "    # Splitting the matrices into quadrants. This will be done recursively until the base case is reached.\n",
    "    a, b, c, d = split(x)\n",
    "    e, f, g, h = split(y) \n",
    "    # Computing the 7 products, recursively (p1, p2...p7)\n",
    "    p1 = strassen_revised(a, f - h, n) \n",
    "    p2 = strassen_revised(a + b, h, n)       \n",
    "    p3 = strassen_revised(c + d, e, n)       \n",
    "    p4 = strassen_revised(d, g - e, n)       \n",
    "    p5 = strassen_revised(a + d, e + h, n)       \n",
    "    p6 = strassen_revised(b - d, g + h, n) \n",
    "    p7 = strassen_revised(a - c, e + f, n)  \n",
    "    # Computing the values of the 4 quadrants of the final matrix c\n",
    "    c11 = p5 + p4 - p2 + p6 \n",
    "    c12 = p1 + p2          \n",
    "    c21 = p3 + p4           \n",
    "    c22 = p1 + p5 - p3 - p7  \n",
    "    # Combining the 4 quadrants into a single matrix by stacking horizontally and vertically.\n",
    "    c = np.vstack((np.hstack((c11, c12)), np.hstack((c21, c22))))    \n",
    "    return c"
   ]
  },
  {
   "cell_type": "markdown",
   "metadata": {
    "id": "od0x6kpxbFcp"
   },
   "source": [
    "Main"
   ]
  },
  {
   "cell_type": "code",
   "execution_count": 20,
   "metadata": {
    "colab": {
     "base_uri": "https://localhost:8080/",
     "height": 495
    },
    "id": "MkTWgkq9g7LE",
    "outputId": "60cc8632-d708-417b-8212-f6a0baa58b6b",
    "scrolled": true
   },
   "outputs": [
    {
     "name": "stdout",
     "output_type": "stream",
     "text": [
      "normal: \n",
      "2^ 1 done, normal time:  1.2800000149582047e-05\n",
      "2^ 2 done, normal time:  4.0099999750964344e-05\n",
      "2^ 3 done, normal time:  0.0002779999999802385\n",
      "2^ 4 done, normal time:  0.0021716000001106295\n",
      "2^ 5 done, normal time:  0.017181300000174815\n",
      "2^ 6 done, normal time:  0.1328773000000183\n",
      "2^ 7 done, normal time:  1.0445372999997744\n",
      "2^ 8 done, normal time:  8.310617900000125\n",
      "2^ 9 done, normal time:  67.39664119999998\n",
      "x = 0\n",
      "2^ 1 done, strassen time:  0.00013239999998404528\n",
      "2^ 2 done, strassen time:  0.000325299999985873\n",
      "2^ 3 done, strassen time:  0.0017330000000583823\n",
      "2^ 4 done, strassen time:  0.011759600000004866\n",
      "2^ 5 done, strassen time:  0.07844240000031277\n",
      "2^ 6 done, strassen time:  0.5161168999998154\n",
      "2^ 7 done, strassen time:  3.582477200000085\n",
      "2^ 8 done, strassen time:  25.06217310000011\n",
      "2^ 9 done, strassen time:  176.47649709999996\n",
      "[1.32400000e-04 3.25300000e-04 1.73300000e-03 1.17596000e-02\n",
      " 7.84424000e-02 5.16116900e-01 3.58247720e+00 2.50621731e+01\n",
      " 1.76476497e+02]\n",
      "[10.34374988  8.1122195   6.23381295  5.41517775  4.56556838  3.88416155\n",
      "  3.42972644  3.01568107  2.61847614]\n",
      "x = 1\n",
      "2^ 2 done, strassen time:  0.0001428999999006919\n",
      "2^ 3 done, strassen time:  0.0005313999999998487\n",
      "2^ 4 done, strassen time:  0.003571899999769812\n",
      "2^ 5 done, strassen time:  0.025516899999729503\n",
      "2^ 6 done, strassen time:  0.17339899999979025\n",
      "2^ 7 done, strassen time:  1.1561430000001565\n",
      "2^ 8 done, strassen time:  8.011123100000077\n",
      "2^ 9 done, strassen time:  56.34924839999985\n",
      "[1.42900000e-04 5.31400000e-04 3.57190000e-03 2.55169000e-02\n",
      " 1.73399000e-01 1.15614300e+00 8.01112310e+00 5.63492484e+01]\n",
      "[3.56359104 1.91151079 1.64482409 1.48515537 1.30495577 1.10684702\n",
      " 0.96396239 0.83608393]\n",
      "x = 2\n",
      "2^ 3 done, strassen time:  0.00036189999991620425\n",
      "2^ 4 done, strassen time:  0.0021973999996589555\n",
      "2^ 5 done, strassen time:  0.0152407000000494\n",
      "2^ 6 done, strassen time:  0.1001539000003504\n",
      "2^ 7 done, strassen time:  0.7019384000000173\n",
      "2^ 8 done, strassen time:  4.8767744000001585\n",
      "2^ 9 done, strassen time:  34.103119300000344\n",
      "[3.61900000e-04 2.19740000e-03 1.52407000e-02 1.00153900e-01\n",
      " 7.01938400e-01 4.87677440e+00 3.41031193e+01]\n",
      "[1.30179856 1.01188064 0.88705162 0.7537322  0.67200894 0.58681249\n",
      " 0.50600621]\n"
     ]
    },
    {
     "data": {
      "text/plain": [
       "<matplotlib.legend.Legend at 0x28bf7cc0f40>"
      ]
     },
     "execution_count": 20,
     "metadata": {},
     "output_type": "execute_result"
    },
    {
     "data": {
      "image/png": "[encoded data removed]",
      "text/plain": [
       "<Figure size 432x288 with 1 Axes>"
      ]
     },
     "metadata": {
      "needs_background": "light"
     },
     "output_type": "display_data"
    }
   ],
   "source": [
    "#start point (2^x): x range\n",
    "x_range = [0,1,2]\n",
    "max_power = 9\n",
    "length = 2**max_power\n",
    "theA = np.random.randint(low=1, high=10, size=(length,length))\n",
    "theB = np.random.randint(low=1, high=10, size=(length,length))\n",
    "theC = np.random.randint(low=1, high=10, size=(length,length))\n",
    "#let computer warm up first\n",
    "C = multiply(theA, theB)\n",
    "#initializations\n",
    "powers = np.arange(1,max_power+1)\n",
    "normals = np.ones(len(powers))\n",
    "\n",
    "#normal\n",
    "print(\"normal: \")\n",
    "for i in range(len(powers)):\n",
    "    power = powers[i]\n",
    "    n = 2**power\n",
    "    A = theA[:n,:n]\n",
    "    B = theB[:n,:n]\n",
    "    C = theC[:n,:n]\n",
    "    #normal\n",
    "    start = time.perf_counter()\n",
    "    D = multiply(A, B)\n",
    "    #D = multiply(A, C)\n",
    "    #D = multiply(B, C)\n",
    "    end = time.perf_counter()\n",
    "    normal_time = (end-start)\n",
    "    normals[i] = normal_time\n",
    "    print(\"2^\", power, \"done, normal time: \", normal_time)\n",
    "    \n",
    "#strassen revised\n",
    "for i in range(len(x_range)):\n",
    "    x = x_range[i]\n",
    "    print(\"x =\", x)\n",
    "    powers_new = np.arange(x+1, max_power+1)\n",
    "    strassens_new = np.zeros(len(powers_new))\n",
    "    prop_new = np.zeros(len(powers_new))\n",
    "    for j in range(len(powers_new)):\n",
    "        power = powers_new[j]\n",
    "        n = 2**power\n",
    "        A = theA[:n,:n]\n",
    "        B = theB[:n,:n]\n",
    "        C = theC[:n,:n]\n",
    "        #strassen\n",
    "        start = time.perf_counter()\n",
    "        D = strassen_revised(A, B, x)\n",
    "        #D = strassen_revised(A, C, x)\n",
    "        #D = strassen_revised(B, C, x)\n",
    "        end = time.perf_counter()\n",
    "        strassen_time_new = (end-start)\n",
    "        strassens_new[j] = strassen_time_new\n",
    "        #result\n",
    "        prop_new[j] = strassen_time_new/(normals[j+x])\n",
    "        print(\"2^\", power, \"done, strassen time: \", strassen_time_new)\n",
    "    print(strassens_new)\n",
    "    print(prop_new)\n",
    "    plt.plot(powers_new, prop_new, marker='o', label=\"base={}*{}\".format(2**x, 2**x))\n",
    "    for k in range(len(powers_new)):\n",
    "        plt.text(powers_new[k], prop_new[k], round(prop_new[k],2), ha='center', va='bottom')\n",
    "plt.xlabel('size = 2^')\n",
    "plt.ylabel('proportion')\n",
    "plt.grid()\n",
    "plt.legend()"
   ]
  }
 ],
 "metadata": {
  "colab": {
   "provenance": []
  },
  "kernelspec": {
   "display_name": "Python 3 (ipykernel)",
   "language": "python",
   "name": "python3"
  },
  "language_info": {
   "codemirror_mode": {
    "name": "ipython",
    "version": 3
   },
   "file_extension": ".py",
   "mimetype": "text/x-python",
   "name": "python",
   "nbconvert_exporter": "python",
   "pygments_lexer": "ipython3",
   "version": "3.9.7"
  }
 },
 "nbformat": 4,
 "nbformat_minor": 1
}
